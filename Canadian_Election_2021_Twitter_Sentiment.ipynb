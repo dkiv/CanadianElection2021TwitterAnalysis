{
 "cells": [
  {
   "cell_type": "code",
   "execution_count": 139,
   "id": "51316487",
   "metadata": {},
   "outputs": [
    {
     "name": "stderr",
     "output_type": "stream",
     "text": [
      "[nltk_data] Downloading package punkt to\n",
      "[nltk_data]     /Users/davidkivlichan/nltk_data...\n",
      "[nltk_data]   Package punkt is already up-to-date!\n",
      "[nltk_data] Downloading package vader_lexicon to\n",
      "[nltk_data]     /Users/davidkivlichan/nltk_data...\n",
      "[nltk_data]   Package vader_lexicon is already up-to-date!\n",
      "[nltk_data] Downloading package stopwords to\n",
      "[nltk_data]     /Users/davidkivlichan/nltk_data...\n",
      "[nltk_data]   Package stopwords is already up-to-date!\n"
     ]
    }
   ],
   "source": [
    "import nltk\n",
    "import pandas\n",
    "import re\n",
    "\n",
    "nltk.download('punkt')\n",
    "import matplotlib.pyplot as plt\n",
    "import seaborn as sns\n",
    "\n",
    "from nltk.corpus import stopwords\n",
    "\n",
    "nltk.download(\"vader_lexicon\")\n",
    "nltk.download(\"stopwords\")\n",
    "\n",
    "\n",
    "from nltk.sentiment import SentimentAnalyzer\n",
    "from nltk.sentiment.vader import SentimentIntensityAnalyzer\n",
    "from nltk.sentiment.util import *\n",
    "\n",
    "from nltk.data import find\n",
    "import numpy as np\n"
   ]
  },
  {
   "cell_type": "code",
   "execution_count": 140,
   "id": "6ed2d9e1",
   "metadata": {},
   "outputs": [],
   "source": [
    "from tqdm import tqdm "
   ]
  },
  {
   "cell_type": "markdown",
   "id": "1a6e3c28",
   "metadata": {},
   "source": [
    "# Data Cleaning"
   ]
  },
  {
   "cell_type": "code",
   "execution_count": 141,
   "id": "5e36b1a4",
   "metadata": {},
   "outputs": [
    {
     "data": {
      "text/plain": [
       "9641"
      ]
     },
     "execution_count": 141,
     "metadata": {},
     "output_type": "execute_result"
    }
   ],
   "source": [
    "tweets = open('Dataset_Name.csv','r').read()\n",
    "OriginalTweets = tweets.split('\\n')\n",
    "\n",
    "len(OriginalTweets)"
   ]
  },
  {
   "cell_type": "code",
   "execution_count": 142,
   "id": "cf914cd3",
   "metadata": {},
   "outputs": [
    {
     "data": {
      "text/plain": [
       "['id',\n",
       " 'tweetid',\n",
       " 'guid',\n",
       " 'link',\n",
       " 'author',\n",
       " 'title',\n",
       " 'description',\n",
       " 'pubdate',\n",
       " 'source',\n",
       " 'favorite_count',\n",
       " 'retweet_count',\n",
       " 'lang',\n",
       " 'quoted_text',\n",
       " 'tweet_type',\n",
       " 'in_reply_to_screen_name',\n",
       " 'in_reply_to_user_id',\n",
       " 'in_reply_to_status_id',\n",
       " 'retweeted_screen_name',\n",
       " 'retweeted_user_id',\n",
       " 'retweeted_status_id',\n",
       " 'user_id',\n",
       " 'profile_image_url',\n",
       " 'user_statuses_count',\n",
       " 'user_friends_count',\n",
       " 'user_followers_count',\n",
       " 'user_created_at',\n",
       " 'user_bio',\n",
       " 'user_location',\n",
       " 'user_verified',\n",
       " '']"
      ]
     },
     "execution_count": 142,
     "metadata": {},
     "output_type": "execute_result"
    }
   ],
   "source": [
    "OriginalTweets[0].split(',')"
   ]
  },
  {
   "cell_type": "code",
   "execution_count": 143,
   "id": "9fcc3f75",
   "metadata": {},
   "outputs": [
    {
     "data": {
      "text/plain": [
       "['102',\n",
       " '1445097097674596358',\n",
       " '\"https://twitter.com/kathleenogrady/statuses/1445097097674596358\"',\n",
       " '\"https://twitter.com/kathleenogrady/statuses/1445097097674596358\"',\n",
       " '\"kathleenogrady\"',\n",
       " '\"Terrific news #cdnpoli #aging #seniors #cdnfem #fem2 https://t.co/SxT5ZJGtMP\"',\n",
       " '\"Terrific news #cdnpoli #aging #seniors #cdnfem #fem2 https://t.co/SxT5ZJGtMP\"',\n",
       " '\"2021-10-04 14:42:51\"',\n",
       " '\"Twitter for iPhone\"',\n",
       " '0',\n",
       " '0',\n",
       " '\"en\"',\n",
       " '\"So proud and excited to be part of the launch of #WomensAgeLab at @WCHospital @WCRInstitute   The First &amp; Only center of its kind in the world dedicated to older women.   Great way to honor October 1st',\n",
       " ' the International Day of Older Persons  https://t.co/bNt6SObx9d  #UNIDOP2021 https://t.co/dQxTTtpm9b\"',\n",
       " '\"quote\"',\n",
       " '\"_SurbhiKalia\"',\n",
       " '1095480773438832640',\n",
       " '1443948458151448579',\n",
       " '\"\"',\n",
       " '0',\n",
       " '0',\n",
       " '67763905',\n",
       " '\"https://pbs.twimg.com/profile_images/1430005448317587460/l4BTkYuz_normal.jpg\"',\n",
       " '57411',\n",
       " '7887',\n",
       " '7940',\n",
       " '\"2009-08-21 20:22:00\"',\n",
       " '\"CEO @QUOIMedia',\n",
       " ' #Ottawa. Research Associate',\n",
       " ' Simone de Beauvoir Institute',\n",
       " ' Concordia University',\n",
       " ' #Montreal. #cdnpoli and #OttawaRiver enthusiast #Disability mom\"',\n",
       " '\"Ottawa',\n",
       " ' Canada\"',\n",
       " '\"\"',\n",
       " '']"
      ]
     },
     "execution_count": 143,
     "metadata": {},
     "output_type": "execute_result"
    }
   ],
   "source": [
    "del OriginalTweets[-1] #Blank line removed\n",
    "del OriginalTweets[0] #column header line removed\n",
    "OriginalTweets[101].split(',')"
   ]
  },
  {
   "cell_type": "code",
   "execution_count": 144,
   "id": "cdbf1a6d",
   "metadata": {},
   "outputs": [
    {
     "data": {
      "text/plain": [
       "9645"
      ]
     },
     "execution_count": 144,
     "metadata": {},
     "output_type": "execute_result"
    }
   ],
   "source": [
    "#remove everything but text in the tweet\n",
    "#take only tweets from the past day.\n",
    "#since some tweets use commas, can find the date of the tweet (2021), to find where the tweet ends after split\n",
    "tweetsOnly = [' '.join(list(tweet.split(',')[6:i+7])) for tweet in OriginalTweets for i,x in enumerate(tweet.split(',')[7:]) if '2021-10-04' in x]\n",
    "len(tweetsOnly)"
   ]
  },
  {
   "cell_type": "code",
   "execution_count": 145,
   "id": "4236bb92",
   "metadata": {},
   "outputs": [
    {
     "data": {
      "text/plain": [
       "'\"Terrific news #cdnpoli #aging #seniors #cdnfem #fem2 https://t.co/SxT5ZJGtMP\"'"
      ]
     },
     "execution_count": 145,
     "metadata": {},
     "output_type": "execute_result"
    }
   ],
   "source": [
    "tweetsOnly[101]"
   ]
  },
  {
   "cell_type": "code",
   "execution_count": 146,
   "id": "25de29f6",
   "metadata": {},
   "outputs": [
    {
     "name": "stdout",
     "output_type": "stream",
     "text": [
      "\"I think a good way to mark this occasion is to donate to @mohamadfakih8’s campaign to provide Thanksgiving Dinner to those who need it this year -&gt; https://t.co/K4eJE9rFpl #cdnpoli https://t.co/9GleW3l9rs\"\n",
      "\"I think a good way to mark this occasion is to donate to @mohamadfakih8’s campaign to provide Thanksgiving Dinner to those who need it this year - https://t.co/K4eJE9rFpl #cdnpoli https://t.co/9GleW3l9rs\"\n"
     ]
    }
   ],
   "source": [
    "# Remove all html tags and attributes\n",
    "print(tweetsOnly[541])\n",
    "tweets = [tweet.replace('&lt;', '').replace('\\\\', '').replace(\"&gt;\",\"\").replace(\"&quot;\",'\"').replace(\"&amp;\",\"&\") for tweet in tweetsOnly]\n",
    "tweets = [re.sub('<[^<]+?>', '', x) for x in tweets]\n",
    "#Check\n",
    "print(tweets[541])"
   ]
  },
  {
   "cell_type": "code",
   "execution_count": 147,
   "id": "38b2959e",
   "metadata": {},
   "outputs": [
    {
     "name": "stdout",
     "output_type": "stream",
     "text": [
      "\"Hundreds of small businesses in Ontario are publicly opposing the government’s vaccine passport system and many are staying quiet about their opposition but not enforcing the system on their customers.  @anthonyfurey discusses. #cdnpoli   https://t.co/foXTj9DTiS\"\n",
      "\"Hundreds of small businesses in Ontario are publicly opposing the government’s vaccine passport system and many are staying quiet about their opposition but not enforcing the system on their customers.  @anthonyfurey discusses. #cdnpoli   \n"
     ]
    }
   ],
   "source": [
    "# All URLs are removed.\n",
    "print(tweets[0])\n",
    "tweetsCleaned = [re.sub(r'http\\S+', '', x) for x in tweets]\n",
    "#check\n",
    "print(tweetsCleaned[0])"
   ]
  },
  {
   "cell_type": "code",
   "execution_count": 148,
   "id": "99c77ee7",
   "metadata": {},
   "outputs": [],
   "source": [
    "#All lowercase\n",
    "tweetsCleaned = [x.lower() for x in tweetsCleaned]\n",
    "tweetsCleaned = [x.replace(\"\\\\\",\"\") for x in tweetsCleaned]"
   ]
  },
  {
   "cell_type": "code",
   "execution_count": 149,
   "id": "2c54cdb3",
   "metadata": {},
   "outputs": [],
   "source": [
    "#Html character codes (i.e., &...;) are replaced with an ASCII equivalent\n",
    "tweetsASCII = [x.encode('unicode-escape').decode('ascii') for x in tweetsCleaned]"
   ]
  },
  {
   "cell_type": "code",
   "execution_count": 150,
   "id": "8f24a2aa",
   "metadata": {},
   "outputs": [],
   "source": [
    "#Many hashtags contain these words\n",
    "liberal_list = ['lpc','libera','justin','trude','snc','lav','face','chooseforward', 'surfboard']\n",
    "conservative_list = ['conserv','erin', 'toole','ford','cpc','harper', 'tory', 'tories','bigbluewave']\n",
    "ndp_list = ['new democrat','ndp','jagmeet','singh','layton','mulcair','orange']\n",
    "green_list = ['green party', 'annamie', 'paul', 'gpc'] \n",
    "bloc_list = ['bloc ', 'québécois', 'quebécois', 'québecois', 'quebecois', 'yves', 'françois','francois', 'blanchet']\n",
    "\n",
    "from collections import Counter\n",
    "#For each tweet, count how many words from each party's list they contain.\n",
    "#if sum of word counts is 0, then classify it as none\n",
    "array_party = np.array([])\n",
    "for pol_tweet in tweetsCleaned:\n",
    "    lib_count = 0\n",
    "    con_count = 0\n",
    "    ndp_count = 0\n",
    "    bloc_count = 0\n",
    "    gpc_count = 0\n",
    "    for keyword in liberal_list:\n",
    "        if keyword in pol_tweet:\n",
    "            lib_count += pol_tweet.count(keyword)\n",
    "    for keyword in green_list:\n",
    "        if keyword in pol_tweet:\n",
    "            gpc_count += pol_tweet.count(keyword)\n",
    "    for keyword in bloc_list:\n",
    "        if keyword in pol_tweet:\n",
    "            bloc_count += pol_tweet.count(keyword)\n",
    "    for keyword in conservative_list:\n",
    "        if keyword in pol_tweet:\n",
    "            con_count += pol_tweet.count(keyword)\n",
    "    for keyword in ndp_list:\n",
    "        if keyword in pol_tweet:\n",
    "            ndp_count += pol_tweet.count(keyword)\n",
    "    \n",
    "    if lib_count + con_count + ndp_count + gpc_count + bloc_count== 0:\n",
    "         array_party = np.append(array_party,'none')\n",
    "    elif all([ndp_count >= con_count, ndp_count >= lib_count, ndp_count >= gpc_count, ndp_count >= bloc_count]):\n",
    "        array_party = np.append(array_party,'ndp')\n",
    "    elif all([lib_count >= con_count, lib_count >= ndp_count, lib_count >= gpc_count, lib_count >= bloc_count]):\n",
    "        array_party = np.append(array_party,'liberal')\n",
    "    elif all([con_count >= lib_count, con_count >= ndp_count, con_count >= gpc_count, con_count >= bloc_count]):\n",
    "        array_party = np.append(array_party,'conservative')\n",
    "    elif all([gpc_count >= con_count, gpc_count >= ndp_count, gpc_count >= lib_count, gpc_count >= bloc_count]):\n",
    "        array_party = np.append(array_party,'green')\n",
    "    elif all([bloc_count >= con_count, bloc_count >= ndp_count, bloc_count >= lib_count, bloc_count >= gpc_count]):\n",
    "        array_party = np.append(array_party,'bloc')\n",
    "    else:\n",
    "        array_party = np.append(array_party,'ndp')\n",
    "#drop first element <built-in function array>"
   ]
  },
  {
   "cell_type": "code",
   "execution_count": 151,
   "id": "d3ec704a",
   "metadata": {},
   "outputs": [
    {
     "data": {
      "text/plain": [
       "(array(['bloc', 'conservative', 'green', 'liberal', 'ndp', 'none'],\n",
       "       dtype='<U32'),\n",
       " array([   2, 1549,  118, 2234,  296, 5446]))"
      ]
     },
     "execution_count": 151,
     "metadata": {},
     "output_type": "execute_result"
    },
    {
     "data": {
      "image/png": "[encoded data removed]",
      "text/plain": [
       "<Figure size 432x288 with 1 Axes>"
      ]
     },
     "metadata": {
      "needs_background": "light"
     },
     "output_type": "display_data"
    }
   ],
   "source": [
    "# Distribution of political tweets\n",
    "sns.countplot(x=array_party).set_title(\"Count of Tweets by Party\")\n",
    "np.unique(array_party,return_counts=True)"
   ]
  },
  {
   "cell_type": "code",
   "execution_count": 205,
   "id": "9fa3c969",
   "metadata": {},
   "outputs": [],
   "source": [
    "new_words = {\n",
    "    'surfboard': -4\n",
    "}"
   ]
  },
  {
   "cell_type": "code",
   "execution_count": 206,
   "id": "28214c93",
   "metadata": {},
   "outputs": [],
   "source": [
    "# Use vader to evaluated sentiment of reviews\n",
    "def evalSentences(sentences, to_df=False, columns=[]):\n",
    "    #Instantiate an instance to access SentimentIntensityAnalyzer class\n",
    "    SIA = SentimentIntensityAnalyzer()\n",
    "\n",
    "    SIA.lexicon.update(new_words)\n",
    "    pdlist = []\n",
    "    if to_df:\n",
    "        for sentence in tqdm(sentences):\n",
    "            ss = SIA.polarity_scores(sentence)\n",
    "            pdlist.append([sentence]+[ss['compound']])\n",
    "        reviewDf = pandas.DataFrame(pdlist)\n",
    "        reviewDf.columns = columns\n",
    "        return reviewDf\n",
    "    \n",
    "    else:\n",
    "        for sentence in tqdm(sentences):\n",
    "            print(sentence)\n",
    "            ss = sid.polarity_scores(sentence)\n",
    "            for k in sorted(ss):\n",
    "                print('{0}: {1}, '.format(k, ss[k]), end='')\n",
    "            print()"
   ]
  },
  {
   "cell_type": "code",
   "execution_count": 207,
   "id": "f2e70ee0",
   "metadata": {
    "scrolled": false
   },
   "outputs": [
    {
     "name": "stderr",
     "output_type": "stream",
     "text": [
      "100%|██████████| 9645/9645 [00:02<00:00, 3992.20it/s]\n"
     ]
    }
   ],
   "source": [
    "tweets = evalSentences(tweetsCleaned, to_df=True, columns=['tweets','vader'])"
   ]
  },
  {
   "cell_type": "code",
   "execution_count": 208,
   "id": "2db308df",
   "metadata": {},
   "outputs": [],
   "source": [
    "party = pandas.DataFrame(array_party)\n",
    "party.columns = ['party']\n",
    "tweets_vader = tweets.join(party)"
   ]
  },
  {
   "cell_type": "code",
   "execution_count": 209,
   "id": "c59dfdeb",
   "metadata": {},
   "outputs": [
    {
     "data": {
      "text/html": [
       "<div>\n",
       "<style scoped>\n",
       "    .dataframe tbody tr th:only-of-type {\n",
       "        vertical-align: middle;\n",
       "    }\n",
       "\n",
       "    .dataframe tbody tr th {\n",
       "        vertical-align: top;\n",
       "    }\n",
       "\n",
       "    .dataframe thead th {\n",
       "        text-align: right;\n",
       "    }\n",
       "</style>\n",
       "<table border=\"1\" class=\"dataframe\">\n",
       "  <thead>\n",
       "    <tr style=\"text-align: right;\">\n",
       "      <th></th>\n",
       "      <th>vader</th>\n",
       "    </tr>\n",
       "    <tr>\n",
       "      <th>party</th>\n",
       "      <th></th>\n",
       "    </tr>\n",
       "  </thead>\n",
       "  <tbody>\n",
       "    <tr>\n",
       "      <th>bloc</th>\n",
       "      <td>0.810500</td>\n",
       "    </tr>\n",
       "    <tr>\n",
       "      <th>ndp</th>\n",
       "      <td>0.203319</td>\n",
       "    </tr>\n",
       "    <tr>\n",
       "      <th>conservative</th>\n",
       "      <td>0.070254</td>\n",
       "    </tr>\n",
       "    <tr>\n",
       "      <th>none</th>\n",
       "      <td>-0.011228</td>\n",
       "    </tr>\n",
       "    <tr>\n",
       "      <th>liberal</th>\n",
       "      <td>-0.029779</td>\n",
       "    </tr>\n",
       "    <tr>\n",
       "      <th>green</th>\n",
       "      <td>-0.103719</td>\n",
       "    </tr>\n",
       "  </tbody>\n",
       "</table>\n",
       "</div>"
      ],
      "text/plain": [
       "                 vader\n",
       "party                 \n",
       "bloc          0.810500\n",
       "ndp           0.203319\n",
       "conservative  0.070254\n",
       "none         -0.011228\n",
       "liberal      -0.029779\n",
       "green        -0.103719"
      ]
     },
     "execution_count": 209,
     "metadata": {},
     "output_type": "execute_result"
    }
   ],
   "source": [
    "tweets_vader[['vader', 'party']].groupby(['party']).mean().sort_values('vader',ascending=0)"
   ]
  },
  {
   "cell_type": "code",
   "execution_count": 211,
   "id": "ad1c5154",
   "metadata": {},
   "outputs": [],
   "source": [
    "# Note: You may want to use an NLTK tokenizer instead of a regular expression in the following\n",
    "def dataFrameTransformation(tweets_df, k=50):\n",
    "    tweets = tweets_df['tweets'].values\n",
    "    from nltk.corpus import stopwords\n",
    "    stop = set(stopwords.words('english'))\n",
    "    stop.add('canada')\n",
    "    stop.add('cdnpoli')\n",
    "    stop.add('people')\n",
    "    stop.add('elxn44')\n",
    "    stop.add('one')\n",
    "    stop.add('first')\n",
    "    stop.add('story')\n",
    "    stop.add('trudeau')\n",
    "    stop.add('justintrudeau')\n",
    "    stop.add('canadians')\n",
    "    stop.add('people')\n",
    "    stop.add('elxn44')\n",
    "    # Top-k frequent terms\n",
    "    counter = Counter()\n",
    "    for tweet in tweets:\n",
    "            counter.update([word\n",
    "                            for word \n",
    "                            in re.findall(r'\\w+', tweet) \n",
    "                            if word.lower() not in stop and len(word) > 2])\n",
    "    topk = counter.most_common(k)        \n",
    "    \n",
    "    #Find out if a particular review has the word from topk list\n",
    "    freqTweet = []\n",
    "    for tweet in tweets:\n",
    "        tempCounter = Counter([word for word in re.findall(r'\\w+',tweet)])\n",
    "        topkinReview = [1 if tempCounter[word] > 0 else 0 for (word,wordCount) in topk]\n",
    "        freqTweet.append(topkinReview)\n",
    "        \n",
    "        \n",
    "    #Prepare freqReviewDf\n",
    "    freqTweet_df = pandas.DataFrame(freqTweet)\n",
    "    top_k_words = []\n",
    "    for word, count in topk:\n",
    "        top_k_words.append(word)\n",
    "    freqTweet_df.columns = top_k_words\n",
    "    finalTweet = tweets_df.join(freqTweet_df)\n",
    "    #finaldf = hotelDf[['hotelName','ratingScore','groundTruth']].join(finalreviewDf)\n",
    "    return topk, finalTweet"
   ]
  },
  {
   "cell_type": "code",
   "execution_count": 212,
   "id": "e5627e43",
   "metadata": {},
   "outputs": [],
   "source": [
    "# getting the top-10 most frequent non-stopwords in the review collection\n",
    "topk, finaldf = dataFrameTransformation(tweets_vader, k=100)"
   ]
  },
  {
   "cell_type": "code",
   "execution_count": 213,
   "id": "caac132d",
   "metadata": {},
   "outputs": [],
   "source": [
    "connotations = np.where(finaldf['vader']>0, 'positive', 'negative')"
   ]
  },
  {
   "cell_type": "code",
   "execution_count": 214,
   "id": "0e14361d",
   "metadata": {},
   "outputs": [],
   "source": [
    "connotations_df = pandas.DataFrame(connotations, columns = ['connotation'])"
   ]
  },
  {
   "cell_type": "code",
   "execution_count": 215,
   "id": "aeecfe3d",
   "metadata": {},
   "outputs": [],
   "source": [
    "final_df = finaldf.join(connotations_df)"
   ]
  },
  {
   "cell_type": "code",
   "execution_count": 216,
   "id": "323db9c5",
   "metadata": {},
   "outputs": [
    {
     "data": {
      "text/html": [
       "<div>\n",
       "<style scoped>\n",
       "    .dataframe tbody tr th:only-of-type {\n",
       "        vertical-align: middle;\n",
       "    }\n",
       "\n",
       "    .dataframe tbody tr th {\n",
       "        vertical-align: top;\n",
       "    }\n",
       "\n",
       "    .dataframe thead th {\n",
       "        text-align: right;\n",
       "    }\n",
       "</style>\n",
       "<table border=\"1\" class=\"dataframe\">\n",
       "  <thead>\n",
       "    <tr style=\"text-align: right;\">\n",
       "      <th></th>\n",
       "      <th>tweets</th>\n",
       "      <th>vader</th>\n",
       "      <th>party</th>\n",
       "      <th>tax</th>\n",
       "      <th>onpoli</th>\n",
       "      <th>ableg</th>\n",
       "      <th>media</th>\n",
       "      <th>day</th>\n",
       "      <th>tofino</th>\n",
       "      <th>alberta</th>\n",
       "      <th>...</th>\n",
       "      <th>going</th>\n",
       "      <th>closing</th>\n",
       "      <th>dodging</th>\n",
       "      <th>term</th>\n",
       "      <th>read</th>\n",
       "      <th>federal</th>\n",
       "      <th>take</th>\n",
       "      <th>facebook</th>\n",
       "      <th>conservative</th>\n",
       "      <th>connotation</th>\n",
       "    </tr>\n",
       "  </thead>\n",
       "  <tbody>\n",
       "    <tr>\n",
       "      <th>0</th>\n",
       "      <td>\"hundreds of small businesses in ontario are p...</td>\n",
       "      <td>0.0000</td>\n",
       "      <td>none</td>\n",
       "      <td>0</td>\n",
       "      <td>0</td>\n",
       "      <td>0</td>\n",
       "      <td>0</td>\n",
       "      <td>0</td>\n",
       "      <td>0</td>\n",
       "      <td>0</td>\n",
       "      <td>...</td>\n",
       "      <td>0</td>\n",
       "      <td>0</td>\n",
       "      <td>0</td>\n",
       "      <td>0</td>\n",
       "      <td>0</td>\n",
       "      <td>0</td>\n",
       "      <td>0</td>\n",
       "      <td>0</td>\n",
       "      <td>0</td>\n",
       "      <td>negative</td>\n",
       "    </tr>\n",
       "    <tr>\n",
       "      <th>1</th>\n",
       "      <td>\"entitled and privileged. a liar and hypocrite...</td>\n",
       "      <td>0.1779</td>\n",
       "      <td>none</td>\n",
       "      <td>0</td>\n",
       "      <td>0</td>\n",
       "      <td>0</td>\n",
       "      <td>0</td>\n",
       "      <td>0</td>\n",
       "      <td>0</td>\n",
       "      <td>0</td>\n",
       "      <td>...</td>\n",
       "      <td>0</td>\n",
       "      <td>0</td>\n",
       "      <td>0</td>\n",
       "      <td>0</td>\n",
       "      <td>0</td>\n",
       "      <td>0</td>\n",
       "      <td>0</td>\n",
       "      <td>0</td>\n",
       "      <td>0</td>\n",
       "      <td>positive</td>\n",
       "    </tr>\n",
       "    <tr>\n",
       "      <th>2</th>\n",
       "      <td>\"charter rights: 'this year’s [supreme court c...</td>\n",
       "      <td>0.0000</td>\n",
       "      <td>none</td>\n",
       "      <td>0</td>\n",
       "      <td>0</td>\n",
       "      <td>0</td>\n",
       "      <td>0</td>\n",
       "      <td>0</td>\n",
       "      <td>0</td>\n",
       "      <td>0</td>\n",
       "      <td>...</td>\n",
       "      <td>0</td>\n",
       "      <td>0</td>\n",
       "      <td>0</td>\n",
       "      <td>0</td>\n",
       "      <td>0</td>\n",
       "      <td>0</td>\n",
       "      <td>0</td>\n",
       "      <td>0</td>\n",
       "      <td>0</td>\n",
       "      <td>negative</td>\n",
       "    </tr>\n",
       "    <tr>\n",
       "      <th>3</th>\n",
       "      <td>\"“why can’t you say anything about the prime m...</td>\n",
       "      <td>0.1280</td>\n",
       "      <td>liberal</td>\n",
       "      <td>0</td>\n",
       "      <td>0</td>\n",
       "      <td>0</td>\n",
       "      <td>0</td>\n",
       "      <td>0</td>\n",
       "      <td>1</td>\n",
       "      <td>0</td>\n",
       "      <td>...</td>\n",
       "      <td>0</td>\n",
       "      <td>0</td>\n",
       "      <td>0</td>\n",
       "      <td>0</td>\n",
       "      <td>0</td>\n",
       "      <td>0</td>\n",
       "      <td>0</td>\n",
       "      <td>0</td>\n",
       "      <td>0</td>\n",
       "      <td>positive</td>\n",
       "    </tr>\n",
       "    <tr>\n",
       "      <th>4</th>\n",
       "      <td>\"if the canadian media ever wonders how donald...</td>\n",
       "      <td>0.4215</td>\n",
       "      <td>none</td>\n",
       "      <td>0</td>\n",
       "      <td>0</td>\n",
       "      <td>0</td>\n",
       "      <td>1</td>\n",
       "      <td>0</td>\n",
       "      <td>0</td>\n",
       "      <td>0</td>\n",
       "      <td>...</td>\n",
       "      <td>0</td>\n",
       "      <td>0</td>\n",
       "      <td>0</td>\n",
       "      <td>0</td>\n",
       "      <td>0</td>\n",
       "      <td>0</td>\n",
       "      <td>0</td>\n",
       "      <td>0</td>\n",
       "      <td>0</td>\n",
       "      <td>positive</td>\n",
       "    </tr>\n",
       "  </tbody>\n",
       "</table>\n",
       "<p>5 rows × 104 columns</p>\n",
       "</div>"
      ],
      "text/plain": [
       "                                              tweets   vader    party  tax  \\\n",
       "0  \"hundreds of small businesses in ontario are p...  0.0000     none    0   \n",
       "1  \"entitled and privileged. a liar and hypocrite...  0.1779     none    0   \n",
       "2  \"charter rights: 'this year’s [supreme court c...  0.0000     none    0   \n",
       "3  \"“why can’t you say anything about the prime m...  0.1280  liberal    0   \n",
       "4  \"if the canadian media ever wonders how donald...  0.4215     none    0   \n",
       "\n",
       "   onpoli  ableg  media  day  tofino  alberta  ...  going  closing  dodging  \\\n",
       "0       0      0      0    0       0        0  ...      0        0        0   \n",
       "1       0      0      0    0       0        0  ...      0        0        0   \n",
       "2       0      0      0    0       0        0  ...      0        0        0   \n",
       "3       0      0      0    0       1        0  ...      0        0        0   \n",
       "4       0      0      1    0       0        0  ...      0        0        0   \n",
       "\n",
       "   term  read  federal  take  facebook  conservative  connotation  \n",
       "0     0     0        0     0         0             0     negative  \n",
       "1     0     0        0     0         0             0     positive  \n",
       "2     0     0        0     0         0             0     negative  \n",
       "3     0     0        0     0         0             0     positive  \n",
       "4     0     0        0     0         0             0     positive  \n",
       "\n",
       "[5 rows x 104 columns]"
      ]
     },
     "execution_count": 216,
     "metadata": {},
     "output_type": "execute_result"
    }
   ],
   "source": [
    "final_df.head()"
   ]
  },
  {
   "cell_type": "code",
   "execution_count": 217,
   "id": "a9d2753a",
   "metadata": {},
   "outputs": [],
   "source": [
    "Ground = final_df.groupby(['party', 'connotation']).sum().drop(['vader'], axis = 1)"
   ]
  },
  {
   "cell_type": "code",
   "execution_count": 218,
   "id": "72217af3",
   "metadata": {},
   "outputs": [],
   "source": [
    "pandas.set_option(\"display.max_rows\", None)"
   ]
  },
  {
   "cell_type": "code",
   "execution_count": 219,
   "id": "27fffa7d",
   "metadata": {},
   "outputs": [
    {
     "data": {
      "text/plain": [
       "<AxesSubplot:title={'center':'most common words in conservative-positive tweets'}>"
      ]
     },
     "execution_count": 219,
     "metadata": {},
     "output_type": "execute_result"
    },
    {
     "data": {
      "image/png": "[encoded data removed]",
      "text/plain": [
       "<Figure size 432x288 with 1 Axes>"
      ]
     },
     "metadata": {
      "needs_background": "light"
     },
     "output_type": "display_data"
    }
   ],
   "source": [
    "Ground.T.sort_values(by=('conservative','positive'), ascending = 0)[('conservative','positive')].head(10).plot(kind='bar', title=\"most common words in conservative-positive tweets\")"
   ]
  },
  {
   "cell_type": "code",
   "execution_count": 220,
   "id": "b58e2fd9",
   "metadata": {},
   "outputs": [
    {
     "data": {
      "text/plain": [
       "<AxesSubplot:title={'center':'most common words in conservative-negative tweets'}>"
      ]
     },
     "execution_count": 220,
     "metadata": {},
     "output_type": "execute_result"
    },
    {
     "data": {
      "image/png": "[encoded data removed]",
      "text/plain": [
       "<Figure size 432x288 with 1 Axes>"
      ]
     },
     "metadata": {
      "needs_background": "light"
     },
     "output_type": "display_data"
    }
   ],
   "source": [
    "group = ('conservative', 'negative')\n",
    "Ground.T.sort_values(by=group, ascending = 0)[group].head(10).plot(kind='bar', title=\"most common words in {}-{} tweets\".format(group[0], group[1]))"
   ]
  },
  {
   "cell_type": "code",
   "execution_count": 221,
   "id": "e9cff42c",
   "metadata": {
    "scrolled": true
   },
   "outputs": [
    {
     "data": {
      "text/plain": [
       "<AxesSubplot:title={'center':'most common words in liberal-positive tweets'}>"
      ]
     },
     "execution_count": 221,
     "metadata": {},
     "output_type": "execute_result"
    },
    {
     "data": {
      "image/png": "[encoded data removed]",
      "text/plain": [
       "<Figure size 432x288 with 1 Axes>"
      ]
     },
     "metadata": {
      "needs_background": "light"
     },
     "output_type": "display_data"
    }
   ],
   "source": [
    "group = ('liberal', 'positive')\n",
    "Ground.T.sort_values(by=group, ascending = 0)[group].head(10).plot(kind='bar', title=\"most common words in {}-{} tweets\".format(group[0], group[1]))"
   ]
  },
  {
   "cell_type": "code",
   "execution_count": 222,
   "id": "5871c80f",
   "metadata": {},
   "outputs": [
    {
     "data": {
      "text/plain": [
       "<AxesSubplot:title={'center':'most common words in liberal-negative tweets'}>"
      ]
     },
     "execution_count": 222,
     "metadata": {},
     "output_type": "execute_result"
    },
    {
     "data": {
      "image/png": "[encoded data removed]",
      "text/plain": [
       "<Figure size 432x288 with 1 Axes>"
      ]
     },
     "metadata": {
      "needs_background": "light"
     },
     "output_type": "display_data"
    }
   ],
   "source": [
    "group = ('liberal', 'negative')\n",
    "Ground.T.sort_values(by=group, ascending = 0)[group].head(10).plot(kind='bar', title=\"most common words in {}-{} tweets\".format(group[0], group[1]))"
   ]
  },
  {
   "cell_type": "code",
   "execution_count": 223,
   "id": "db6f30a1",
   "metadata": {},
   "outputs": [
    {
     "data": {
      "text/plain": [
       "<AxesSubplot:title={'center':'most common words in ndp-positive tweets'}>"
      ]
     },
     "execution_count": 223,
     "metadata": {},
     "output_type": "execute_result"
    },
    {
     "data": {
      "image/png": "[encoded data removed]",
      "text/plain": [
       "<Figure size 432x288 with 1 Axes>"
      ]
     },
     "metadata": {
      "needs_background": "light"
     },
     "output_type": "display_data"
    }
   ],
   "source": [
    "group = ('ndp', 'positive')\n",
    "Ground.T.sort_values(by=group, ascending = 0)[group].head(10).plot(kind='bar', title=\"most common words in {}-{} tweets\".format(group[0], group[1]))"
   ]
  },
  {
   "cell_type": "code",
   "execution_count": 224,
   "id": "16681820",
   "metadata": {},
   "outputs": [
    {
     "data": {
      "text/plain": [
       "<AxesSubplot:title={'center':'most common words in ndp-negative tweets'}>"
      ]
     },
     "execution_count": 224,
     "metadata": {},
     "output_type": "execute_result"
    },
    {
     "data": {
      "image/png": "[encoded data removed]",
      "text/plain": [
       "<Figure size 432x288 with 1 Axes>"
      ]
     },
     "metadata": {
      "needs_background": "light"
     },
     "output_type": "display_data"
    }
   ],
   "source": [
    "group = ('ndp', 'negative')\n",
    "Ground.T.sort_values(by=group, ascending = 0)[group].head(10).plot(kind='bar', title=\"most common words in {}-{} tweets\".format(group[0], group[1]))"
   ]
  },
  {
   "cell_type": "code",
   "execution_count": 225,
   "id": "1348ce6f",
   "metadata": {},
   "outputs": [],
   "source": [
    "party_sentiments = final_df[['party','connotation']].value_counts()"
   ]
  },
  {
   "cell_type": "code",
   "execution_count": 226,
   "id": "ed2878ff",
   "metadata": {},
   "outputs": [],
   "source": [
    "partys = []\n",
    "sentiments = []\n",
    "for party, sentiment in party_sentiments.keys():\n",
    "    partys.append(party)\n",
    "    sentiments.append(sentiment)"
   ]
  },
  {
   "cell_type": "code",
   "execution_count": 227,
   "id": "bae6532d",
   "metadata": {},
   "outputs": [],
   "source": [
    "counts = list(party_sentiments)"
   ]
  },
  {
   "cell_type": "code",
   "execution_count": 228,
   "id": "20a6ff82",
   "metadata": {},
   "outputs": [],
   "source": [
    "party_labels = list(set(partys))\n",
    "party_sentiment_counts = zip(partys, sentiments, counts)\n",
    "liberal_counts = [1,2]\n",
    "conservative_counts = [1,2]\n",
    "ndp_counts = [1,2]\n",
    "for party, sentiment, count in party_sentiment_counts:\n",
    "    if party == 'liberal' and sentiment == \"positive\":\n",
    "        liberal_counts[0] = count\n",
    "    if party == 'liberal' and sentiment == \"negative\":\n",
    "        liberal_counts[1] = count\n",
    "    if party == 'conservative' and sentiment == \"positive\":\n",
    "        conservative_counts[0] = count\n",
    "    if party == 'conservative' and sentiment == \"negative\":\n",
    "        conservative_counts[1] = count\n",
    "    if party == 'ndp' and sentiment == \"positive\":\n",
    "        ndp_counts[0] = count\n",
    "    if party == 'ndp' and sentiment == \"negative\":\n",
    "        ndp_counts[1] = count"
   ]
  },
  {
   "cell_type": "code",
   "execution_count": 229,
   "id": "ac250f32",
   "metadata": {},
   "outputs": [
    {
     "data": {
      "image/png": "[encoded data removed]",
      "text/plain": [
       "<Figure size 432x288 with 1 Axes>"
      ]
     },
     "metadata": {
      "needs_background": "light"
     },
     "output_type": "display_data"
    }
   ],
   "source": [
    "import matplotlib.pyplot as plt\n",
    "import numpy as np\n",
    "\n",
    "\n",
    "labels = ['Positve', 'Negative']\n",
    "\n",
    "#men_means = [20, 34, 30, 35, 27]\n",
    "#women_means = [25, 32, 34, 20, 25]\n",
    "\n",
    "x = np.arange(len(labels))  # the label locations\n",
    "width = 0.25  # the width of the bars\n",
    "\n",
    "fig, ax = plt.subplots()\n",
    "rects1 = ax.bar(x - width/2, conservative_counts, width, label='Conservative', color = \"blue\")\n",
    "rects2 = ax.bar(x + width/2, liberal_counts, width, label='Liberal', color = \"red\")\n",
    "rects3 = ax.bar(x + 3*width/2, ndp_counts, width, label='NDP', color = \"orange\")\n",
    "\n",
    "# Add some text for labels, title and custom x-axis tick labels, etc.\n",
    "ax.set_ylabel('Tweet Count')\n",
    "ax.set_xlabel('Sentiment')\n",
    "ax.set_title('Number of Tweets by Party-Sentiment')\n",
    "ax.set_xticks(x)\n",
    "ax.set_xticklabels(labels)\n",
    "ax.legend(loc = 9)\n",
    "\n",
    "ax.bar_label(rects1, padding=0)\n",
    "ax.bar_label(rects2, padding=0)\n",
    "ax.bar_label(rects3, padding=0)\n",
    "\n",
    "fig.tight_layout()\n",
    "\n",
    "plt.show()"
   ]
  },
  {
   "cell_type": "code",
   "execution_count": null,
   "id": "6054a50f",
   "metadata": {},
   "outputs": [],
   "source": []
  }
 ],
 "metadata": {
  "kernelspec": {
   "display_name": "Python 3",
   "language": "python",
   "name": "python3"
  },
  "language_info": {
   "codemirror_mode": {
    "name": "ipython",
    "version": 3
   },
   "file_extension": ".py",
   "mimetype": "text/x-python",
   "name": "python",
   "nbconvert_exporter": "python",
   "pygments_lexer": "ipython3",
   "version": "3.9.5"
  }
 },
 "nbformat": 4,
 "nbformat_minor": 5
}
